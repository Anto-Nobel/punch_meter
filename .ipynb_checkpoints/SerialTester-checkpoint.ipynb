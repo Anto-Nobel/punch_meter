{
 "cells": [
  {
   "cell_type": "code",
   "execution_count": 16,
   "id": "6c184f0b",
   "metadata": {},
   "outputs": [],
   "source": [
    "import serial \n",
    "import pandas as pd\n",
    "pd.plotting.register_matplotlib_converters()\n",
    "import numpy as np\n",
    "import matplotlib.pyplot as plt \n",
    "import matplotlib.animation as anime\n",
    "pd.plotting.register_matplotlib_converters()\n",
    "import seaborn as sns"
   ]
  },
  {
   "cell_type": "code",
   "execution_count": 17,
   "id": "d75dedec",
   "metadata": {},
   "outputs": [
    {
     "data": {
      "text/plain": [
       "<Figure size 432x288 with 0 Axes>"
      ]
     },
     "metadata": {},
     "output_type": "display_data"
    }
   ],
   "source": [
    "fig =  plt.figure()\n",
    "fig.figsize=(14,6)"
   ]
  },
  {
   "cell_type": "code",
   "execution_count": 18,
   "id": "e7ae6fe4",
   "metadata": {},
   "outputs": [],
   "source": [
    "ax1 = fig.add_subplot(2,3,1)\n",
    "ax2 = fig.add_subplot(2,3,2)\n",
    "ax3 = fig.add_subplot(2,3,3)\n",
    "ax4 = fig.add_subplot(2,3,4)\n",
    "ax5 = fig.add_subplot(2,3,5)\n",
    "ax6 = fig.add_subplot(2,3,6)"
   ]
  },
  {
   "cell_type": "code",
   "execution_count": 19,
   "id": "64cc608b",
   "metadata": {},
   "outputs": [],
   "source": [
    "df = pd.DataFrame(columns = ['timestamp','acc_X','acc_Y','acc_Z','gyro_X','gyro_Y','gyro_Z']) \n",
    "timestamp = pd.Series(dtype=str)\n",
    "acc_X = pd.Series(dtype=float)\n",
    "acc_Y = pd.Series(dtype=float)\n",
    "acc_Z = pd.Series(dtype=float)\n",
    "gyro_X = pd.Series(dtype=float)\n",
    "gyro_Y = pd.Series(dtype=float)\n",
    "gyro_Z = pd.Series(dtype=float)"
   ]
  },
  {
   "cell_type": "code",
   "execution_count": 20,
   "id": "a5a1123d",
   "metadata": {},
   "outputs": [],
   "source": [
    "def animate(*vargs):\n",
    "    ser = serial.Serial('/dev/ttyUSB0',460800)\n",
    "    time.sleep(10)\n",
    "    for _ in range(100):\n",
    "        line=ser.readline()\n",
    "        if len(line):\n",
    "            print(line) \n",
    "        time.sleep(0.001)\n",
    "    while 1:\n",
    "        line=ser.readline()\n",
    "        data = line.decode()\n",
    "        [aX,aY,aZ,gX,gY,gZ]=data.split(\",\")\n",
    "        acc_X.append(aX)\n",
    "        acc_Y.append(aY)\n",
    "        acc_Z.append(aZ) \n",
    "        gyro_X.append(gX)\n",
    "        gyro_Y.append(gY)\n",
    "        gyro_Z.append(gZ) \n",
    "        df.append()\n",
    "        ax1.clear()\n",
    "        ax1.plot(timestamp,acc_X)\n",
    "        ax2.clear()\n",
    "        ax2.plot(timestamp,acc_Y)\n",
    "        ax3.clear()\n",
    "        ax3.plot(timestamp,acc_Z)\n",
    "        ax4.clear()\n",
    "        ax4.plot(timestamp,gyro_X)\n",
    "        ax5.clear()\n",
    "        ax5.plot(timestamp,gyro_Y)\n",
    "        ax6.clear()\n",
    "        ax6.plot(timestamp,gyro_Z)\n",
    "        \n",
    "        time.sleep(0.001)\n",
    "        "
   ]
  },
  {
   "cell_type": "code",
   "execution_count": 21,
   "id": "47ebb32a",
   "metadata": {},
   "outputs": [
    {
     "name": "stderr",
     "output_type": "stream",
     "text": [
      "/home/antonobel/.local/lib/python3.8/site-packages/matplotlib/animation.py:973: UserWarning: Animation was deleted without rendering anything. This is most likely unintended. To prevent deletion, assign the Animation to a variable that exists for as long as you need the Animation.\n",
      "  warnings.warn(\n"
     ]
    }
   ],
   "source": [
    "ani = anime.FuncAnimation(fig,animate,interval=1)"
   ]
  },
  {
   "cell_type": "code",
   "execution_count": 22,
   "id": "e6526249",
   "metadata": {},
   "outputs": [
    {
     "data": {
      "text/plain": [
       "<function matplotlib.pyplot.show(close=None, block=None)>"
      ]
     },
     "execution_count": 22,
     "metadata": {},
     "output_type": "execute_result"
    }
   ],
   "source": [
    "plt.show"
   ]
  },
  {
   "cell_type": "code",
   "execution_count": null,
   "id": "2ab4a800",
   "metadata": {},
   "outputs": [],
   "source": []
  },
  {
   "cell_type": "code",
   "execution_count": null,
   "id": "cf45cd15",
   "metadata": {},
   "outputs": [],
   "source": []
  }
 ],
 "metadata": {
  "kernelspec": {
   "display_name": "Python 3 (ipykernel)",
   "language": "python",
   "name": "python3"
  },
  "language_info": {
   "codemirror_mode": {
    "name": "ipython",
    "version": 3
   },
   "file_extension": ".py",
   "mimetype": "text/x-python",
   "name": "python",
   "nbconvert_exporter": "python",
   "pygments_lexer": "ipython3",
   "version": "3.8.10"
  }
 },
 "nbformat": 4,
 "nbformat_minor": 5
}
